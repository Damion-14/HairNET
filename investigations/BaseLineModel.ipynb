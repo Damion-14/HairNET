{
 "cells": [
  {
   "cell_type": "markdown",
   "metadata": {},
   "source": [
    "## Base model\n",
    "We will use other pretrained models combined together to generate new hair styles"
   ]
  },
  {
   "cell_type": "code",
   "execution_count": null,
   "metadata": {},
   "outputs": [],
   "source": [
    "from PIL import Image, ImageDraw\n",
    "from diffusers import StableDiffusionInpaintPipeline\n",
    "import matplotlib.pyplot as plt\n",
    "import torch\n",
    "\n",
    "# Load the original image\n",
    "image = Image.open(\"output.png\").convert(\"RGB\")\n",
    "\n",
    "# Create a mask image (same size as the input image, filled with black)\n",
    "mask_image = Image.new(\"L\", image.size, 0)  # \"L\" mode is grayscale (black/white)\n",
    "\n",
    "# Define a region to inpaint (e.g., a rectangle)\n",
    "draw = ImageDraw.Draw(mask_image)\n",
    "draw.rectangle([50, 50, 500, 500], fill=255)  # White region (inpaint this part)\n",
    "mask_image.save(\"mask.png\")\n",
    "\n",
    "# Load the Stable Diffusion inpainting model\n",
    "pipe = StableDiffusionInpaintPipeline.from_pretrained(\n",
    "    \"stabilityai/stable-diffusion-2-inpainting\", torch_dtype=torch.float16\n",
    ")\n",
    "\n",
    "# Move the model to GPU if available\n",
    "device = \"cuda\" if torch.cuda.is_available() else \"cpu\"\n",
    "pipe.to(device)\n",
    "\n",
    "# Run inpainting\n",
    "image = pipe(\n",
    "    prompt=\"fade the man up, give him a mohawk\",\n",
    "    image=image,\n",
    "    mask_image=mask_image\n",
    ").images[0]\n",
    "\n",
    "# Save the new image\n",
    "image.save(\"new_image.png\")\n",
    "\n",
    "# Display the result\n",
    "plt.imshow(image)\n",
    "plt.axis(\"off\")\n",
    "plt.show()"
   ]
  }
 ],
 "metadata": {
  "kernelspec": {
   "display_name": "Python 3",
   "language": "python",
   "name": "python3"
  },
  "language_info": {
   "name": "python",
   "version": "3.12.3"
  }
 },
 "nbformat": 4,
 "nbformat_minor": 2
}
